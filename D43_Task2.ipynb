{
 "cells": [
  {
   "cell_type": "code",
   "execution_count": 1,
   "id": "32b75aa3",
   "metadata": {},
   "outputs": [],
   "source": [
    "import numpy as np"
   ]
  },
  {
   "cell_type": "markdown",
   "id": "ccc47c13",
   "metadata": {},
   "source": [
    "###### 1. The most basic kind of broadcast is with a scalar, in which you can perform a binary operation (e.g., add, multiply, ...) on an array and a scalar, the effect is to perform that operation with the scalar for every element of the array. To try this out, create a vector 1, 2, . . . , 10 by adding 1 to the result of the arange function."
   ]
  },
  {
   "cell_type": "code",
   "execution_count": 2,
   "id": "c83a54d9",
   "metadata": {},
   "outputs": [
    {
     "name": "stdout",
     "output_type": "stream",
     "text": [
      "Original Vec :  [ 1  2  3  4  5  6  7  8  9 10]\n",
      "Adding 1 to Orginal Vector :  [ 2  3  4  5  6  7  8  9 10 11]\n"
     ]
    }
   ],
   "source": [
    "vec = np.arange(1,11)\n",
    "print(\"Original Vec : \",vec)\n",
    "vec1 = vec+1\n",
    "print(\"Adding 1 to Orginal Vector : \",vec1)"
   ]
  },
  {
   "cell_type": "code",
   "execution_count": 3,
   "id": "15ddcfe3",
   "metadata": {},
   "outputs": [
    {
     "name": "stdout",
     "output_type": "stream",
     "text": [
      "10 10\n"
     ]
    }
   ],
   "source": [
    "print(len(vec),len(vec1))"
   ]
  },
  {
   "cell_type": "markdown",
   "id": "a47387df",
   "metadata": {},
   "source": [
    "###### 2. Now, create a 10 × 10 matrix A in which A[i][j] = i + j. You’ll be able to do this using the vector you just created, and adding it to a reshaped version of itself."
   ]
  },
  {
   "cell_type": "code",
   "execution_count": 83,
   "id": "26c47844",
   "metadata": {
    "scrolled": true
   },
   "outputs": [
    {
     "name": "stdout",
     "output_type": "stream",
     "text": [
      "[[  1   2   3   4   5   6   7   8   9  10]\n",
      " [ 11  12  13  14  15  16  17  18  19  20]\n",
      " [ 21  22  23  24  25  26  27  28  29  30]\n",
      " [ 31  32  33  34  35  36  37  38  39  40]\n",
      " [ 41  42  43  44  45  46  47  48  49  50]\n",
      " [ 51  52  53  54  55  56  57  58  59  60]\n",
      " [ 61  62  63  64  65  66  67  68  69  70]\n",
      " [ 71  72  73  74  75  76  77  78  79  80]\n",
      " [ 81  82  83  84  85  86  87  88  89  90]\n",
      " [ 91  92  93  94  95  96  97  98  99 100]]\n"
     ]
    }
   ],
   "source": [
    "import numpy as np\n",
    "ran = np.reshape((np.arange(1,101)),(-1,10))\n",
    "print(ran)"
   ]
  },
  {
   "cell_type": "markdown",
   "id": "9013e355",
   "metadata": {},
   "source": [
    "##### 3. A very common use of broadcasting is to standardize data, i.e., to make it have zero mean and unit variance. First, create a fake “data set” with 50 examples, each with five dimensions."
   ]
  },
  {
   "cell_type": "code",
   "execution_count": 4,
   "id": "44cc66d3",
   "metadata": {},
   "outputs": [],
   "source": [
    "import numpy.random as npr\n",
    "data = np.exp(npr.randn(50,5))"
   ]
  },
  {
   "cell_type": "code",
   "execution_count": 5,
   "id": "49b17e06",
   "metadata": {},
   "outputs": [
    {
     "name": "stdout",
     "output_type": "stream",
     "text": [
      "[[ 2.61673607  0.76562657  0.83324237  0.44566036  0.93183355]\n",
      " [ 1.51045111  0.70812237  2.54990261  1.22909444  4.36062449]\n",
      " [ 0.17939426  3.68549659  0.51905896  2.12239819  0.31571261]\n",
      " [ 0.39028069  0.23304955  2.0555452   0.77094946  2.51669059]\n",
      " [ 1.17190665  0.50858337  0.20785353  0.08795482  2.00280362]\n",
      " [ 2.41476548  0.72642958  0.63823982  0.17910056  0.56759393]\n",
      " [ 1.71606315  2.31830262  4.7569714   0.29020389  0.95000865]\n",
      " [ 3.41749228  0.27781383  0.52576423  0.15530196  3.19590106]\n",
      " [ 0.36953656  2.39924371  0.19428479  2.75307964  1.96353106]\n",
      " [ 1.20486865  2.9338041   0.50959787  1.15088141  1.3341792 ]\n",
      " [ 2.00934628  1.57226983  0.1941097   3.08817599 11.19626769]\n",
      " [ 0.90339826  1.79558054  2.81975331  0.93763655  0.17193616]\n",
      " [ 0.70242134  1.60206847  4.45973101  0.74254281  1.04990633]\n",
      " [ 2.84837963  1.01681155  1.25079505  0.22365201  2.3819338 ]\n",
      " [ 2.24592686  0.41462412  0.59619891  0.97239293  0.35768621]\n",
      " [ 1.52559339  1.15921488  1.08530837  0.93267834  1.6447238 ]\n",
      " [ 0.58288947  0.17855474  1.27335536  0.34772246  0.04976541]\n",
      " [ 1.90153959  3.1066745   0.42780191  0.30794793  1.01822021]\n",
      " [ 2.43433301  9.39287903  1.98878334  1.22987252  0.66848496]\n",
      " [ 1.56308153  0.92436741  0.63562148  0.34088974  1.11306277]\n",
      " [ 1.15365857  1.25094258  1.3921631   0.66178529  1.3447201 ]\n",
      " [ 1.03307587  0.45036218  1.01350889  0.66316123  0.27570397]\n",
      " [ 0.82019125  1.11701643  0.54693842  0.2265922   0.7396336 ]\n",
      " [ 4.31224199  0.33852572  0.7713895   1.51589408  0.17442733]\n",
      " [ 1.03329466  1.65740875  0.8966777   3.15879509  0.58005485]\n",
      " [ 1.55068421  3.33394062  3.06812719  0.70677686  0.43678826]\n",
      " [ 0.50119425  1.5517821   2.539858    0.38647385  1.78761293]\n",
      " [ 0.69576054  1.70697743  0.30649173  2.38774231  0.49899262]\n",
      " [ 1.37148362  0.78936574  2.13326497  3.33421134  3.85723453]\n",
      " [ 0.30145836  1.32600888  2.29673637  8.10685352  0.30986204]\n",
      " [ 0.98586388  0.4819023   1.03368811  1.90854953  4.19327279]\n",
      " [ 2.14516682  0.42910415  0.3704776   0.75145206  0.53722115]\n",
      " [ 3.33333505  0.66004986  3.65695768  0.83369193  0.24955932]\n",
      " [ 1.85900858  0.80761828  2.1119155   1.29356156  0.64711144]\n",
      " [ 0.39764659  1.38885095  0.4199807   2.75553508  0.40604007]\n",
      " [ 0.36934061  1.46382024  0.49962238  1.11846467  1.96815639]\n",
      " [ 2.05821898  2.08337021  0.86806725  1.07758813  5.71180679]\n",
      " [ 1.37775834  1.57952607  0.38469494  3.93608977  0.23972638]\n",
      " [ 0.65007854  2.72876948  1.15299964  2.86545962  0.91481299]\n",
      " [ 0.13989398  0.9664732   0.85597235  2.22499278  1.16918982]\n",
      " [ 1.20574531  1.31809789  1.94958504 13.21420361  0.39096582]\n",
      " [ 7.68416535  2.28671442  1.22239388  3.24598428  1.1484842 ]\n",
      " [ 0.37357996  3.64202404  0.59319519  1.54282931  1.35501168]\n",
      " [ 2.33161648  1.28388509  0.58843167  0.90441806  0.09395415]\n",
      " [ 0.52269028  0.24952841  1.83336859  0.5809869   1.33724944]\n",
      " [ 2.69555339  1.67916792  0.52088869  2.1791935   2.90719872]\n",
      " [ 0.4471915   0.0524912   4.01280167  1.97145309  2.85945263]\n",
      " [ 0.50363445  2.1455717   1.48185127  0.37330679  0.56962829]\n",
      " [ 1.11885231  2.19187258  1.94327809  2.53953435  1.74512402]\n",
      " [ 1.35022845  0.81182268  2.42966123  1.03426084  0.41208312]]\n"
     ]
    }
   ],
   "source": [
    "print(data)"
   ]
  },
  {
   "cell_type": "markdown",
   "id": "65cb526d",
   "metadata": {},
   "source": [
    "##### 4. Now, compute the mean and standard deviation of each column. This should result in two vectors of length 5. You’ll need to think a little bit about how to use the axis argument to mean and std. Store these vectors into variables and print both of them."
   ]
  },
  {
   "cell_type": "code",
   "execution_count": 9,
   "id": "9c250dde",
   "metadata": {},
   "outputs": [
    {
     "name": "stdout",
     "output_type": "stream",
     "text": [
      "[1.52062033 1.54985017 1.40833813 1.71615955 1.53303891]\n",
      "Length of the vector: 5\n"
     ]
    }
   ],
   "source": [
    "x = np.mean(data,axis=0)\n",
    "print(x)\n",
    "print(\"Length of the vector:\",len(x))"
   ]
  },
  {
   "cell_type": "code",
   "execution_count": 10,
   "id": "b7746c10",
   "metadata": {},
   "outputs": [
    {
     "name": "stdout",
     "output_type": "stream",
     "text": [
      "[1.28276398 1.44995519 1.12954129 2.14423405 1.85240451]\n",
      "Length of the vector: 5\n"
     ]
    }
   ],
   "source": [
    "y = np.std(data,axis=0)\n",
    "print(y)\n",
    "print(\"Length of the vector:\",len(y))"
   ]
  },
  {
   "cell_type": "markdown",
   "id": "07b8894d",
   "metadata": {},
   "source": [
    "### 5. Now standardize the data matrix by 1. subtracting the mean off of each column, and 2. dividing each column by its standard deviation. Do this via broadcasting, and store the result in a matrix called normalized. To verify that you successfully did it, compute the mean and standard deviation of the columns of normalized and print them out."
   ]
  },
  {
   "cell_type": "code",
   "execution_count": 53,
   "id": "610a2a02",
   "metadata": {},
   "outputs": [],
   "source": [
    "import numpy as np\n",
    "import numpy.random as npr"
   ]
  },
  {
   "cell_type": "code",
   "execution_count": 55,
   "id": "bf53600e",
   "metadata": {},
   "outputs": [
    {
     "name": "stdout",
     "output_type": "stream",
     "text": [
      "Mean of data = [156.5  136.     4.75]\n"
     ]
    }
   ],
   "source": [
    "\n",
    "Mean_of_data=np.mean(data,axis=0)\n",
    "print(\"Mean of data =\" ,Mean_of_data)"
   ]
  },
  {
   "cell_type": "code",
   "execution_count": 57,
   "id": "1d1e923f",
   "metadata": {},
   "outputs": [
    {
     "name": "stdout",
     "output_type": "stream",
     "text": [
      "[[-0.3139653  -1.2031159  -0.57735027]\n",
      " [ 0.45575609  0.40693626  1.73205081]\n",
      " [ 1.28624496  1.41543047 -0.57735027]\n",
      " [-1.42803574 -0.61925083 -0.57735027]]\n"
     ]
    }
   ],
   "source": [
    "normalized=np.divide((np.subtract(data,Mean_of_data)),np.std(data,axis=0)) \n",
    "print(normalized)"
   ]
  },
  {
   "cell_type": "code",
   "execution_count": 61,
   "id": "12195512",
   "metadata": {},
   "outputs": [
    {
     "name": "stdout",
     "output_type": "stream",
     "text": [
      "[ 0.00000000e+00 -2.77555756e-17  0.00000000e+00]\n",
      "[1. 1. 1.]\n"
     ]
    }
   ],
   "source": [
    "n_mean=np.mean(normalized,axis=0)\n",
    "n_std=np.std(normalized,axis=0) \n",
    "print(n_mean)\n",
    "print(n_std)"
   ]
  },
  {
   "cell_type": "markdown",
   "id": "2341a5f4",
   "metadata": {},
   "source": [
    "**Performing the Hypothesis testing using the Chi-squared test**"
   ]
  },
  {
   "cell_type": "code",
   "execution_count": 11,
   "id": "356e0433",
   "metadata": {},
   "outputs": [
    {
     "name": "stdout",
     "output_type": "stream",
     "text": [
      "p value is 0.00044690833914947634\n",
      "Dependent (reject H0)\n"
     ]
    }
   ],
   "source": [
    "from scipy.stats import chi2_contingency\n",
    "  \n",
    "# defining the table\n",
    "data = [[141,68,4], [179,159,7],[220,216,4],[86,101,4]]\n",
    "stat, p, dof, expected = chi2_contingency(data)\n",
    "  \n",
    "# interpret p-value\n",
    "alpha = 0.05\n",
    "print(\"p value is \" + str(p))\n",
    "if p <= alpha:\n",
    "    print('Dependent (reject H0)')\n",
    "else:\n",
    "    print('Independent (H0 holds true)')"
   ]
  },
  {
   "cell_type": "markdown",
   "id": "bf19bd61",
   "metadata": {},
   "source": [
    "**Since p_value < alpha we accept H0, ie, the age group and their movie genre inclination have a significant relation.**"
   ]
  },
  {
   "cell_type": "code",
   "execution_count": null,
   "id": "915b3057",
   "metadata": {},
   "outputs": [],
   "source": []
  },
  {
   "cell_type": "code",
   "execution_count": null,
   "id": "093d48ad",
   "metadata": {},
   "outputs": [],
   "source": []
  }
 ],
 "metadata": {
  "kernelspec": {
   "display_name": "Python 3",
   "language": "python",
   "name": "python3"
  },
  "language_info": {
   "codemirror_mode": {
    "name": "ipython",
    "version": 3
   },
   "file_extension": ".py",
   "mimetype": "text/x-python",
   "name": "python",
   "nbconvert_exporter": "python",
   "pygments_lexer": "ipython3",
   "version": "3.8.8"
  }
 },
 "nbformat": 4,
 "nbformat_minor": 5
}
